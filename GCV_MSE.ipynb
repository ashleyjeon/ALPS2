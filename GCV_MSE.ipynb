{
 "cells": [
  {
   "cell_type": "markdown",
   "id": "4e53f595-e474-481e-82fe-d1d22f49d4a0",
   "metadata": {},
   "source": [
    "# GCV Error Estimation and Runtimes"
   ]
  },
  {
   "cell_type": "code",
   "execution_count": 11,
   "id": "d18f15f2-8ace-4b11-9510-9cc50e619619",
   "metadata": {},
   "outputs": [],
   "source": [
    "from Functions import *\n",
    "from matplotlib.pyplot import *\n",
    "import matplotlib.pyplot as plt\n",
    "\n",
    "from sklearn.metrics import mean_squared_error as mse\n",
    "\n",
    "import pandas as pd\n",
    "import pickle"
   ]
  },
  {
   "cell_type": "markdown",
   "id": "4e626634-dc1f-42ed-9cfb-a967173ecd04",
   "metadata": {},
   "source": [
    "***\n",
    "### Mean Squared Error\n",
    "* `meanerror(Data)` can be used to estimate the mean squared error for GCV function\n",
    "   * **Data** = dataset used"
   ]
  },
  {
   "cell_type": "code",
   "execution_count": 5,
   "id": "1c341c49-0962-4d6f-912c-6a01e1aa74f6",
   "metadata": {},
   "outputs": [],
   "source": [
    "def meanerror(Data):\n",
    "    p = 4\n",
    "    q = 2\n",
    "    \n",
    "    [n, lamb, sigmasq] = full_search_nk(Data, p, q)\n",
    "    c = n + p\n",
    "    U = Kno_pspline_opt(Data, p, n)\n",
    "    B = Basis_Pspline(n, p, U, Data[:,0])\n",
    "    \n",
    "    P = Penalty_p(q, c)\n",
    "\n",
    "    theta = np.linalg.solve(B.T.dot(B) + lamb*P, B.T.dot(Data[:,1].reshape(-1,1)))\n",
    "    \n",
    "    yp = B.dot(theta)\n",
    "\n",
    "    return mse(Data[:,1], yp)"
   ]
  },
  {
   "cell_type": "markdown",
   "id": "93f94024-8cf5-4492-b74d-a65603da09d7",
   "metadata": {},
   "source": [
    "***\n",
    "#### Example 1\n"
   ]
  },
  {
   "cell_type": "code",
   "execution_count": 8,
   "id": "51fe71b9-8ad0-4d6f-a284-e20e10fe4250",
   "metadata": {},
   "outputs": [],
   "source": [
    "Data = pickle.load( open( \"ts1.p\", \"rb\" ) )"
   ]
  },
  {
   "cell_type": "code",
   "execution_count": 10,
   "id": "28bda2ff-211a-455c-89cb-e09a9c583b10",
   "metadata": {},
   "outputs": [
    {
     "name": "stderr",
     "output_type": "stream",
     "text": [
      "/Users/samichoe/opt/anaconda3/lib/python3.9/site-packages/scipy/optimize/_optimize.py:284: RuntimeWarning: Values in x were outside bounds during a minimize step, clipping to bounds\n",
      "  warnings.warn(\"Values in x were outside bounds during a \"\n"
     ]
    },
    {
     "data": {
      "text/plain": [
       "0.508489335325775"
      ]
     },
     "execution_count": 10,
     "metadata": {},
     "output_type": "execute_result"
    }
   ],
   "source": [
    "meanerror(Data)"
   ]
  }
 ],
 "metadata": {
  "kernelspec": {
   "display_name": "Python 3 (ipykernel)",
   "language": "python",
   "name": "python3"
  },
  "language_info": {
   "codemirror_mode": {
    "name": "ipython",
    "version": 3
   },
   "file_extension": ".py",
   "mimetype": "text/x-python",
   "name": "python",
   "nbconvert_exporter": "python",
   "pygments_lexer": "ipython3",
   "version": "3.9.13"
  }
 },
 "nbformat": 4,
 "nbformat_minor": 5
}
