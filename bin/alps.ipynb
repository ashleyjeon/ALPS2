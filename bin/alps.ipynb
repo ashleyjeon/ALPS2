{
 "cells": [
  {
   "cell_type": "markdown",
   "metadata": {},
   "source": [
    "# <center> ALPS </center>"
   ]
  },
  {
   "cell_type": "markdown",
   "metadata": {},
   "source": [
    "<font size=\"4\"><br />This Jupyter Notebook provides the code for the following (Approximation by Localized Penalized Splines) ALPS framework functionalities:<br /><br />\n",
    "\n",
    "1. [Using GCV to fit the ALPS model<br /><br />](#section_1)\n",
    "1. [Using REML to fit the ALPS model<br /><br />](#section_2)\n",
    "1. [Outlier detection in time series using two stage strategy<br /><br />](#section_3)\n",
    "1. [Segregation of low frequency and high frequency effects<br /><br />](#section_4)\n",
    "1. [Computation of first derivative for the produced approximation](#section_5)\n",
    "</font>"
   ]
  },
  {
   "cell_type": "code",
   "execution_count": 1,
   "metadata": {},
   "outputs": [],
   "source": [
    "# Importing the libraries\n",
    "import os\n",
    "import atexit\n",
    "from importlib import reload\n",
    "from pathlib import Path\n",
    "import pickle\n",
    "import matplotlib.pyplot as plt\n",
    "from IPython.display import HTML\n",
    "import ipywidgets as widg\n",
    "\n",
    "%matplotlib inline\n",
    "plt.ioff()\n",
    "\n",
    "import files\n",
    "import functions as func\n",
    "import plotting\n",
    "import widgets"
   ]
  },
  {
   "cell_type": "code",
   "execution_count": 2,
   "metadata": {},
   "outputs": [],
   "source": [
    "#prints functions.py to the functions_ouput window\n",
    "functions_output = widg.Output()\n",
    "functions_file = os.path.join(files.DIR_BIN, \"functions.py\")\n",
    "def show_functions(change):\n",
    "\n",
    "    if showmore_button.description == 'Show functions.py':\n",
    "        \n",
    "        showmore_button.description = 'Hide functions.py'\n",
    "        with functions_output:\n",
    "            f = open(functions_file, 'r')\n",
    "            for line in f:\n",
    "                print(line.rstrip())\n",
    "            f.close()\n",
    "    else:\n",
    "        \n",
    "        showmore_button.description = 'Show functions.py'\n",
    "        functions_output.clear_output()\n",
    "        \n",
    "showmore_button = widg.Button(description = 'Show functions.py', button_style = 'success')\n",
    "showmore_button.on_click(show_functions)\n"
   ]
  },
  {
   "cell_type": "markdown",
   "metadata": {},
   "source": [
    "### Click the Hide / Show functions.py button to see the foundational functions on which these higher level ALPS framework functionalities are built"
   ]
  },
  {
   "cell_type": "code",
   "execution_count": 3,
   "metadata": {
    "scrolled": true
   },
   "outputs": [
    {
     "data": {
      "application/vnd.jupyter.widget-view+json": {
       "model_id": "bb985b5288c446e0b9c80176f562d6c0",
       "version_major": 2,
       "version_minor": 0
      },
      "text/plain": [
       "Output()"
      ]
     },
     "metadata": {},
     "output_type": "display_data"
    },
    {
     "data": {
      "application/vnd.jupyter.widget-view+json": {
       "model_id": "31e4aa66903c40e28f46517d6c0bb350",
       "version_major": 2,
       "version_minor": 0
      },
      "text/plain": [
       "Button(button_style='success', description='Show functions.py', style=ButtonStyle())"
      ]
     },
     "metadata": {},
     "output_type": "display_data"
    }
   ],
   "source": [
    "display(functions_output)\n",
    "display(showmore_button)"
   ]
  },
  {
   "cell_type": "markdown",
   "metadata": {},
   "source": [
    "## View Your Data\n",
    "\n",
    "Select *Sample* to choose a file from one of the included sample files. Select *Personal* to pick a file from your session's personal data directory. You can upload a CSV or pickle file using the *Upload* button. To load the selected data, press *Select* and a 5 row sample of your data will be shown."
   ]
  },
  {
   "cell_type": "code",
   "execution_count": 4,
   "metadata": {
    "scrolled": false
   },
   "outputs": [
    {
     "data": {
      "application/vnd.jupyter.widget-view+json": {
       "model_id": "85082230dc6146dfba17d2ef0ab98ffc",
       "version_major": 2,
       "version_minor": 0
      },
      "text/plain": [
       "DataSelector(children=(HBox(children=(Label(value='Select data source:'), Button(description='Sample', style=B…"
      ]
     },
     "metadata": {},
     "output_type": "display_data"
    }
   ],
   "source": [
    "d = widgets.DataSelector()\n",
    "display(d)"
   ]
  },
  {
   "cell_type": "markdown",
   "metadata": {},
   "source": [
    "<a name=\"section_1\"></a>\n",
    "## <br />1. Using GCV to fit the ALPS model[$\\tiny\\uparrow$](#top)"
   ]
  },
  {
   "cell_type": "code",
   "execution_count": 5,
   "metadata": {},
   "outputs": [],
   "source": [
    "f1 = plt.figure(figsize=(12,7))"
   ]
  },
  {
   "cell_type": "code",
   "execution_count": 6,
   "metadata": {
    "scrolled": false
   },
   "outputs": [
    {
     "data": {
      "application/vnd.jupyter.widget-view+json": {
       "model_id": "3150101c288d49918eeaa80e46c265e3",
       "version_major": 2,
       "version_minor": 0
      },
      "text/plain": [
       "DataDisplay(children=(DataSelector(children=(HBox(children=(Label(value='Select data source:'), Button(descrip…"
      ]
     },
     "metadata": {},
     "output_type": "display_data"
    }
   ],
   "source": [
    "gcv = widgets.DataDisplay(widgets.DataDisplay.FuncType.GCV, f1)"
   ]
  },
  {
   "cell_type": "markdown",
   "metadata": {},
   "source": [
    "<a name=\"section_2\"></a>\n",
    "## <br />2. Using REML to Fit the ALPS Model[$\\tiny\\uparrow$](#top)"
   ]
  },
  {
   "cell_type": "code",
   "execution_count": 7,
   "metadata": {},
   "outputs": [],
   "source": [
    "f2 = plt.figure(figsize=(9,5))"
   ]
  },
  {
   "cell_type": "code",
   "execution_count": 8,
   "metadata": {
    "scrolled": false
   },
   "outputs": [
    {
     "data": {
      "application/vnd.jupyter.widget-view+json": {
       "model_id": "96b11d58d6734d7cb88c5cf4c0996f2a",
       "version_major": 2,
       "version_minor": 0
      },
      "text/plain": [
       "DataDisplay(children=(DataSelector(children=(HBox(children=(Label(value='Select data source:'), Button(descrip…"
      ]
     },
     "metadata": {},
     "output_type": "display_data"
    },
    {
     "ename": "ValueError",
     "evalue": "Fitting functions only take 2 columns; passed 5 ((1088, 5))",
     "output_type": "error",
     "traceback": [
      "\u001b[0;31m---------------------------------------------------------------------------\u001b[0m",
      "\u001b[0;31mValueError\u001b[0m                                Traceback (most recent call last)",
      "\u001b[0;32m~/Documents/Projects/ghub/alps/ALPS2/bin/widgets.py\u001b[0m in \u001b[0;36msubmit\u001b[0;34m(b)\u001b[0m\n\u001b[1;32m    156\u001b[0m         \u001b[0;32mdef\u001b[0m \u001b[0msubmit\u001b[0m\u001b[0;34m(\u001b[0m\u001b[0mb\u001b[0m\u001b[0;34m)\u001b[0m\u001b[0;34m:\u001b[0m\u001b[0;34m\u001b[0m\u001b[0;34m\u001b[0m\u001b[0m\n\u001b[1;32m    157\u001b[0m             \u001b[0;34m\"\"\"Read data in @self.data_path\"\"\"\u001b[0m\u001b[0;34m\u001b[0m\u001b[0;34m\u001b[0m\u001b[0m\n\u001b[0;32m--> 158\u001b[0;31m             \u001b[0mself\u001b[0m\u001b[0;34m.\u001b[0m\u001b[0mdata\u001b[0m \u001b[0;34m=\u001b[0m \u001b[0mfiles\u001b[0m\u001b[0;34m.\u001b[0m\u001b[0mload_data\u001b[0m\u001b[0;34m(\u001b[0m\u001b[0mself\u001b[0m\u001b[0;34m.\u001b[0m\u001b[0m_data_path\u001b[0m\u001b[0;34m)\u001b[0m\u001b[0;34m\u001b[0m\u001b[0;34m\u001b[0m\u001b[0m\n\u001b[0m\u001b[1;32m    159\u001b[0m             \u001b[0mout_selected\u001b[0m\u001b[0;34m.\u001b[0m\u001b[0mclear_output\u001b[0m\u001b[0;34m(\u001b[0m\u001b[0mwait\u001b[0m\u001b[0;34m=\u001b[0m\u001b[0;32mTrue\u001b[0m\u001b[0;34m)\u001b[0m\u001b[0;34m\u001b[0m\u001b[0;34m\u001b[0m\u001b[0m\n\u001b[1;32m    160\u001b[0m \u001b[0;34m\u001b[0m\u001b[0m\n",
      "\u001b[0;32m~/Documents/Projects/ghub/alps/ALPS2/bin/widgets.py\u001b[0m in \u001b[0;36mdata\u001b[0;34m(self, val)\u001b[0m\n\u001b[1;32m    195\u001b[0m         \u001b[0mself\u001b[0m\u001b[0;34m.\u001b[0m\u001b[0m_data\u001b[0m \u001b[0;34m=\u001b[0m \u001b[0mval\u001b[0m\u001b[0;34m\u001b[0m\u001b[0;34m\u001b[0m\u001b[0m\n\u001b[1;32m    196\u001b[0m         \u001b[0;32mfor\u001b[0m \u001b[0mcb\u001b[0m \u001b[0;32min\u001b[0m \u001b[0mself\u001b[0m\u001b[0;34m.\u001b[0m\u001b[0m_callbacks\u001b[0m\u001b[0;34m:\u001b[0m\u001b[0;34m\u001b[0m\u001b[0;34m\u001b[0m\u001b[0m\n\u001b[0;32m--> 197\u001b[0;31m             \u001b[0mcb\u001b[0m\u001b[0;34m(\u001b[0m\u001b[0mself\u001b[0m\u001b[0;34m.\u001b[0m\u001b[0m_data\u001b[0m\u001b[0;34m)\u001b[0m\u001b[0;34m\u001b[0m\u001b[0;34m\u001b[0m\u001b[0m\n\u001b[0m\u001b[1;32m    198\u001b[0m \u001b[0;34m\u001b[0m\u001b[0m\n\u001b[1;32m    199\u001b[0m     \u001b[0;32mdef\u001b[0m \u001b[0mm_observe\u001b[0m\u001b[0;34m(\u001b[0m\u001b[0mself\u001b[0m\u001b[0;34m,\u001b[0m \u001b[0mcallback\u001b[0m\u001b[0;34m)\u001b[0m\u001b[0;34m:\u001b[0m\u001b[0;34m\u001b[0m\u001b[0;34m\u001b[0m\u001b[0m\n",
      "\u001b[0;32m~/Documents/Projects/ghub/alps/ALPS2/bin/widgets.py\u001b[0m in \u001b[0;36mobserve_data\u001b[0;34m(data)\u001b[0m\n\u001b[1;32m     33\u001b[0m \u001b[0;34m\u001b[0m\u001b[0m\n\u001b[1;32m     34\u001b[0m         \u001b[0;32mdef\u001b[0m \u001b[0mobserve_data\u001b[0m\u001b[0;34m(\u001b[0m\u001b[0mdata\u001b[0m\u001b[0;34m)\u001b[0m\u001b[0;34m:\u001b[0m\u001b[0;34m\u001b[0m\u001b[0;34m\u001b[0m\u001b[0m\n\u001b[0;32m---> 35\u001b[0;31m             \u001b[0mself\u001b[0m\u001b[0;34m.\u001b[0m\u001b[0mconfigure\u001b[0m\u001b[0;34m(\u001b[0m\u001b[0mfunc_type\u001b[0m\u001b[0;34m,\u001b[0m \u001b[0mfig\u001b[0m\u001b[0;34m,\u001b[0m \u001b[0mdata\u001b[0m\u001b[0;34m)\u001b[0m\u001b[0;34m\u001b[0m\u001b[0;34m\u001b[0m\u001b[0m\n\u001b[0m\u001b[1;32m     36\u001b[0m \u001b[0;34m\u001b[0m\u001b[0m\n\u001b[1;32m     37\u001b[0m         \u001b[0msel_data\u001b[0m\u001b[0;34m.\u001b[0m\u001b[0mm_observe\u001b[0m\u001b[0;34m(\u001b[0m\u001b[0mobserve_data\u001b[0m\u001b[0;34m)\u001b[0m\u001b[0;34m\u001b[0m\u001b[0;34m\u001b[0m\u001b[0m\n",
      "\u001b[0;32m~/Documents/Projects/ghub/alps/ALPS2/bin/widgets.py\u001b[0m in \u001b[0;36mconfigure\u001b[0;34m(self, func_type, fig, data)\u001b[0m\n\u001b[1;32m     45\u001b[0m         \u001b[0;32mtry\u001b[0m\u001b[0;34m:\u001b[0m\u001b[0;34m\u001b[0m\u001b[0;34m\u001b[0m\u001b[0m\n\u001b[1;32m     46\u001b[0m             \u001b[0;31m# validate input data\u001b[0m\u001b[0;34m\u001b[0m\u001b[0;34m\u001b[0m\u001b[0;34m\u001b[0m\u001b[0m\n\u001b[0;32m---> 47\u001b[0;31m             \u001b[0mvalid\u001b[0m \u001b[0;34m=\u001b[0m \u001b[0mfunc\u001b[0m\u001b[0;34m.\u001b[0m\u001b[0mvalidate_data\u001b[0m\u001b[0;34m(\u001b[0m\u001b[0mdata\u001b[0m\u001b[0;34m)\u001b[0m\u001b[0;34m\u001b[0m\u001b[0;34m\u001b[0m\u001b[0m\n\u001b[0m\u001b[1;32m     48\u001b[0m         \u001b[0;32mexcept\u001b[0m\u001b[0;34m:\u001b[0m\u001b[0;34m\u001b[0m\u001b[0;34m\u001b[0m\u001b[0m\n\u001b[1;32m     49\u001b[0m             \u001b[0;32mif\u001b[0m \u001b[0mlen\u001b[0m\u001b[0;34m(\u001b[0m\u001b[0mself\u001b[0m\u001b[0;34m.\u001b[0m\u001b[0mchildren\u001b[0m\u001b[0;34m)\u001b[0m \u001b[0;34m==\u001b[0m \u001b[0;36m2\u001b[0m\u001b[0;34m:\u001b[0m\u001b[0;34m\u001b[0m\u001b[0;34m\u001b[0m\u001b[0m\n",
      "\u001b[0;32m~/Documents/Projects/ghub/alps/ALPS2/bin/functions.py\u001b[0m in \u001b[0;36mvalidate_data\u001b[0;34m(data)\u001b[0m\n\u001b[1;32m     60\u001b[0m         \u001b[0;32mif\u001b[0m \u001b[0mdata\u001b[0m\u001b[0;34m.\u001b[0m\u001b[0mshape\u001b[0m\u001b[0;34m[\u001b[0m\u001b[0;36m1\u001b[0m\u001b[0;34m]\u001b[0m \u001b[0;34m!=\u001b[0m \u001b[0;36m2\u001b[0m\u001b[0;34m:\u001b[0m\u001b[0;34m\u001b[0m\u001b[0;34m\u001b[0m\u001b[0m\n\u001b[1;32m     61\u001b[0m             raise ValueError(\n\u001b[0;32m---> 62\u001b[0;31m                 \u001b[0;34mf'Fitting functions only take 2 columns; '\u001b[0m\u001b[0;34m\u001b[0m\u001b[0;34m\u001b[0m\u001b[0m\n\u001b[0m\u001b[1;32m     63\u001b[0m                 \u001b[0;34mf'passed {data.shape[1]} ({data.shape})'\u001b[0m\u001b[0;34m\u001b[0m\u001b[0;34m\u001b[0m\u001b[0m\n\u001b[1;32m     64\u001b[0m             )\n",
      "\u001b[0;31mValueError\u001b[0m: Fitting functions only take 2 columns; passed 5 ((1088, 5))"
     ]
    }
   ],
   "source": [
    "reml = widgets.DataDisplay(widgets.DataDisplay.FuncType.REML, f2)"
   ]
  },
  {
   "cell_type": "markdown",
   "metadata": {},
   "source": [
    "<a name=\"section_3\"></a>\n",
    "## <br />3. Outlier Detection in Time Series using Two Stage Strategy[$\\tiny\\uparrow$](#top)"
   ]
  },
  {
   "cell_type": "code",
   "execution_count": 9,
   "metadata": {
    "scrolled": false
   },
   "outputs": [],
   "source": [
    "f3 = plt.figure(figsize=(15,5))"
   ]
  },
  {
   "cell_type": "code",
   "execution_count": 10,
   "metadata": {
    "scrolled": false
   },
   "outputs": [
    {
     "data": {
      "application/vnd.jupyter.widget-view+json": {
       "model_id": "866499a6ea3e49178fe2ec754264d885",
       "version_major": 2,
       "version_minor": 0
      },
      "text/plain": [
       "DataSelector(children=(HBox(children=(Label(value='Select data source:'), Button(description='Sample', style=B…"
      ]
     },
     "metadata": {},
     "output_type": "display_data"
    }
   ],
   "source": [
    "two_stage = widgets.DataDisplay(\n",
    "    widgets.DataDisplay.FuncType.TWO_STAGE, f3\n",
    ")"
   ]
  },
  {
   "cell_type": "markdown",
   "metadata": {},
   "source": [
    "<a name=\"section_4\"></a>\n",
    "## <br />4. Mixed Model Formulation for getting Local and Global Effects[$\\tiny\\uparrow$](#top)"
   ]
  },
  {
   "cell_type": "code",
   "execution_count": 11,
   "metadata": {},
   "outputs": [],
   "source": [
    "f4 = plt.figure(figsize=(15,5))"
   ]
  },
  {
   "cell_type": "code",
   "execution_count": 12,
   "metadata": {
    "scrolled": false
   },
   "outputs": [
    {
     "data": {
      "application/vnd.jupyter.widget-view+json": {
       "model_id": "d4e92e1a97f54759a717d6d716e7ccf4",
       "version_major": 2,
       "version_minor": 0
      },
      "text/plain": [
       "DataSelector(children=(HBox(children=(Label(value='Select data source:'), Button(description='Sample', style=B…"
      ]
     },
     "metadata": {},
     "output_type": "display_data"
    }
   ],
   "source": [
    "mmf = widgets.DataDisplay(widgets.DataDisplay.FuncType.MMF, f4)"
   ]
  },
  {
   "cell_type": "markdown",
   "metadata": {},
   "source": [
    "<a name=\"section_5\"></a>\n",
    "## <br />5. Computation of First Derivative with CIs[$\\tiny\\uparrow$](#top)"
   ]
  },
  {
   "cell_type": "markdown",
   "metadata": {},
   "source": [
    "Here we show the capability of ALPS to compute the first order derivative. Actually its even possible to compute derivatives of higher order by changing the order in the main code."
   ]
  },
  {
   "cell_type": "code",
   "execution_count": 13,
   "metadata": {},
   "outputs": [
    {
     "ename": "AttributeError",
     "evalue": "module 'files' has no attribute 'load_pickle'",
     "output_type": "error",
     "traceback": [
      "\u001b[0;31m---------------------------------------------------------------------------\u001b[0m",
      "\u001b[0;31mAttributeError\u001b[0m                            Traceback (most recent call last)",
      "\u001b[0;32m/tmp/ipykernel_43865/615933817.py\u001b[0m in \u001b[0;36m<module>\u001b[0;34m\u001b[0m\n\u001b[0;32m----> 1\u001b[0;31m \u001b[0mdata\u001b[0m \u001b[0;34m=\u001b[0m \u001b[0mfiles\u001b[0m\u001b[0;34m.\u001b[0m\u001b[0mload_pickle\u001b[0m\u001b[0;34m(\u001b[0m\u001b[0mfiles\u001b[0m\u001b[0;34m.\u001b[0m\u001b[0mDIR_SAMPLE_DATA\u001b[0m\u001b[0;34m/\u001b[0m\u001b[0;34m'ts1.p'\u001b[0m\u001b[0;34m)\u001b[0m\u001b[0;34m\u001b[0m\u001b[0;34m\u001b[0m\u001b[0m\n\u001b[0m",
      "\u001b[0;31mAttributeError\u001b[0m: module 'files' has no attribute 'load_pickle'"
     ]
    }
   ],
   "source": [
    "data = files.load_pickle(files.DIR_SAMPLE_DATA/'ts1.p')"
   ]
  },
  {
   "cell_type": "code",
   "execution_count": null,
   "metadata": {},
   "outputs": [],
   "source": [
    "f5 = plt.figure(figsize=(9,5))"
   ]
  },
  {
   "cell_type": "code",
   "execution_count": null,
   "metadata": {},
   "outputs": [],
   "source": [
    "# Fitting and plotting\n",
    "f1 = figure(figsize=(15,10))\n",
    "ax = subplot2grid((1,1),(0,0))\n",
    "\n",
    "p = 4;q=2\n",
    "[n,lamb,sigmasq] = func.full_search_nk(Data1,p,q)\n",
    "c = n+p\n",
    "U = func.Kno_pspline_opt(Data1,p,n)\n",
    "B = func.Basis_Pspline(n,p,U,Data1[:,0])\n",
    "P = func.Penalty_p(q,c)\n",
    "theta = np.linalg.solve(B.T.dot(B) + lamb*P, B.T.dot(Data1[:,1].reshape(-1,1)))\n",
    "### Getting mean of the prediction\n",
    "num = 200\n",
    "xpred = func.linspace(Data1[0,0],Data1[-1,0],num)\n",
    "Bpred = func.Basis_Pspline(n,p,U,xpred)\n",
    "ypred1 = Bpred.dot(theta)\n",
    "std_t1,std_n1 = func.Var_bounds(Data1,Bpred,B,theta,P,lamb)\n",
    "## Getting the derivative\n",
    "Bpred_dert = func.Basis_derv_Pspline(n,p,U,xpred)\n",
    "ypred_derth = Bpred_dert.dot(theta)\n",
    "std_th_derv,std_nh_derv = func.Var_bounds(Data1,Bpred_dert,B,theta,P,lamb)\n",
    "\n",
    "\n",
    "## Plotting\n",
    "ax.scatter(Data1[:,0],Data1[:,1],color = 'r',s = 100,label = 'Data')\n",
    "ax.plot(xpred,ypred1,linewidth=3,color = 'g',label = 'Mean Prediction')\n",
    "ax.plot(xpred,ypred_derth,linewidth=3,color = 'b',label = 'First derivative')\n",
    "ax.set_title('(a)',size = 25)\n",
    "ax.tick_params(axis='x', labelsize=19)\n",
    "ax.tick_params(axis='y', labelsize=19)\n",
    "ax.set_xlabel('Time',size=25)\n",
    "ax.set_ylabel('thickness change (m)',size = 25)\n",
    "ax.fill_between(xpred.flatten(),ypred1.flatten()-std_t1,ypred1.flatten()+std_t1, alpha = 0.2,color = 'k',label = '95% t-interval')\n",
    "ax.fill_between(xpred.flatten(),ypred_derth.flatten()-std_th_derv,ypred_derth.flatten()+std_th_derv, alpha = 0.2,color = 'k')\n",
    "\n",
    "\n",
    "ax.legend(fontsize=20)\n",
    "ax.grid(True)\n",
    "show()\n"
   ]
  },
  {
   "cell_type": "code",
   "execution_count": null,
   "metadata": {},
   "outputs": [],
   "source": [
    "# Prevent In[] and Out[] from displaying on left\n",
    "HTML('''\n",
    "<style>.prompt{width: 0px; min-width: 0px; visibility: collapse}</style>\n",
    "''')"
   ]
  },
  {
   "cell_type": "code",
   "execution_count": null,
   "metadata": {},
   "outputs": [],
   "source": [
    "# Scroll to top when the notebook is loaded\n",
    "HTML('''\n",
    "<script>\n",
    "    function scroll_to_top() {\n",
    "        Jupyter.notebook.scroll_to_top();\n",
    "    } \n",
    "    $( window ).on( \"load\", scroll_to_top() );\n",
    "</script>\n",
    "''')"
   ]
  },
  {
   "cell_type": "code",
   "execution_count": null,
   "metadata": {},
   "outputs": [],
   "source": []
  }
 ],
 "metadata": {
  "kernelspec": {
   "display_name": "Python 3 (ipykernel)",
   "language": "python",
   "name": "python3"
  },
  "language_info": {
   "codemirror_mode": {
    "name": "ipython",
    "version": 3
   },
   "file_extension": ".py",
   "mimetype": "text/x-python",
   "name": "python",
   "nbconvert_exporter": "python",
   "pygments_lexer": "ipython3",
   "version": "3.7.7"
  }
 },
 "nbformat": 4,
 "nbformat_minor": 2
}
