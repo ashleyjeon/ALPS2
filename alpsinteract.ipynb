{
 "cells": [
  {
   "cell_type": "markdown",
   "metadata": {},
   "source": [
    "# <center> ALPS </center>"
   ]
  },
  {
   "cell_type": "markdown",
   "metadata": {},
   "source": [
    "<font size=\"4\"><br />This Jupyter Notebook provides the code for the following (Approximation by Localized Penalized Splines) ALPS framework functionalities:<br /><br />\n",
    "\n",
    "1. [Using GCV to fit the ALPS model<br /><br />](#section_1)\n",
    "1. [Using REML to fit the ALPS model<br /><br />](#section_2)\n",
    "1. [Outlier detection in time series using two stage strategy<br /><br />](#section_3)\n",
    "1. [Segregation of low frequency and high frequency effects<br /><br />](#section_4)\n",
    "1. [Computation of first derivative for the produced approximation](#section_5)\n",
    "</font>"
   ]
  },
  {
   "cell_type": "markdown",
   "metadata": {},
   "source": [
    "### Select Kernel Restart & Run All to initialize the notebook\n",
    "\n",
    "### Click the Hide / Show Code Cells button to hide / show the code cells<br />"
   ]
  },
  {
   "cell_type": "code",
   "execution_count": 1,
   "metadata": {},
   "outputs": [
    {
     "data": {
      "application/javascript": [
       "\n",
       "requirejs.undef('filepicker');\n",
       "\n",
       "define('filepicker', [\"@jupyter-widgets/base\"], function(widgets) {\n",
       "\n",
       "    var FilePickerView = widgets.DOMWidgetView.extend({\n",
       "        render: function(){\n",
       "            this.file = document.createElement('input');\n",
       "            this.file.setAttribute('class', 'fileinput');\n",
       "            this.file.setAttribute('id', this.cid);\n",
       "            this.file.multiple = this.model.get('multiple');\n",
       "            this.file.required = true;\n",
       "            this.file.setAttribute('type', 'file');\n",
       "            this.file.setAttribute('style', 'display:none');\n",
       "\n",
       "            this.label = document.createElement('label');\n",
       "            this.label.setAttribute('for', this.cid);\n",
       "            this.label.setAttribute('style', 'border: 1px solid; border-radius: 5px; display: inline-block; padding: 6px 12px');\n",
       "\n",
       "            this.icon = document.createElement('i');\n",
       "            this.icon.setAttribute(\"class\", \"fa fa-upload\");\n",
       "\n",
       "            if (this.file.multiple) {\n",
       "                this.labelstr = \"  Upload Files\";\n",
       "            } else {\n",
       "                this.labelstr = \"  Upload File\";\n",
       "            }\n",
       "            this.label.innerHTML = this.labelstr;\n",
       "            this.label.prepend(this.icon);\n",
       "            this.el.appendChild(this.label);\n",
       "            this.el.appendChild(this.file);\n",
       "            this.listenTo(this.model, 'change:send', this._send_changed, this);\n",
       "            this.listenTo(this.model, 'change:reset', this._reset, this);\n",
       "            this.update();\n",
       "        },\n",
       "\n",
       "        events: {\n",
       "            // List of events and their handlers.\n",
       "            'change': 'handle_file_change'\n",
       "        },\n",
       "\n",
       "        _reset: function() {\n",
       "            this.label.innerHTML = this.labelstr;\n",
       "            this.label.prepend(this.icon);\n",
       "            this.file.removeAttribute(\"disabled\");\n",
       "        },\n",
       "\n",
       "        _send_changed: function() {\n",
       "            var that = this;\n",
       "            var send = this.model.get('send');\n",
       "            var fnum = send[0];\n",
       "            var offset = send[1];\n",
       "            var chunk_size=64*1024;\n",
       "            var reader;\n",
       "\n",
       "            if (fnum == -1) {\n",
       "                // ignore\n",
       "                return\n",
       "            }\n",
       "\n",
       "            if (offset == 0) {\n",
       "                this.model.set('sent', -1);\n",
       "                this.touch();\n",
       "            }\n",
       "\n",
       "            // console.log('send: ' + fnum + ' ' + offset);\n",
       "            function tob64( buffer ) {\n",
       "                var binary = '';\n",
       "                var bytes = new Uint8Array( buffer );\n",
       "                var len = bytes.byteLength;\n",
       "                for (var i = 0; i < len; i++) {\n",
       "                    binary += String.fromCharCode( bytes[ i ] );\n",
       "                }\n",
       "                return window.btoa( binary );\n",
       "            }\n",
       "\n",
       "            var reader_done = function (event) {\n",
       "                // chunk is finished.  Send to python\n",
       "                if (event.target.error == null) {\n",
       "                    var b64 = tob64(event.target.result);\n",
       "                    that.model.set('data', b64);\n",
       "                    that.model.set('sent', offset);\n",
       "                    that.touch();\n",
       "                } else {\n",
       "                    console.log(\"Read error: \" + event.target.error);\n",
       "                    that.model.set('data', '');\n",
       "                    that.model.set('sent', -2);\n",
       "                    that.touch();\n",
       "                }\n",
       "                that.touch();\n",
       "            }\n",
       "        \n",
       "            var chunk_reader = function (_offset, _f) {\n",
       "                // console.log('CR' + ' ' + _f + ' ' + _offset);\n",
       "                reader = new FileReader();\n",
       "                var chunk = _f.slice(_offset, chunk_size + _offset);            \n",
       "                reader.readAsArrayBuffer(chunk);\n",
       "                reader.onload = reader_done;\n",
       "            }\n",
       "    \n",
       "            // OK. request next chunk\n",
       "            chunk_reader(offset, this.files[fnum]);\n",
       "        },\n",
       "        \n",
       "        \n",
       "        handle_file_change: function(evt) {\n",
       "\n",
       "            var _files = evt.target.files;\n",
       "            var filenames = [];\n",
       "            var file_readers = [];\n",
       "            this.files = [];\n",
       "\n",
       "            for (var i = 0; i < _files.length; i++) {\n",
       "                var file = _files[i];\n",
       "                console.log(\"Filename: \" + file.name);\n",
       "                console.log(\"Type: \" + file.type);\n",
       "                console.log(\"Size: \" + file.size + \" bytes\");\n",
       "                this.files.push(file);\n",
       "                filenames.push([file.name, file.size]);\n",
       "            };\n",
       "            \n",
       "            // Set the filenames of the files.\n",
       "            this.model.set('filenames', filenames);\n",
       "            this.touch();\n",
       "\n",
       "            // update the label\n",
       "            if (filenames.length == 0) {\n",
       "                this.label.innerHTML = this.labelstr;\n",
       "                this.file.removeAttribute(\"disabled\");\n",
       "            } else if (filenames.length == 1) {\n",
       "                this.label.innerHTML = \"  \" + filenames[0][0];\n",
       "                this.file.setAttribute('disabled', 'true');\n",
       "            } else {\n",
       "                this.label.innerHTML = \"  \" + filenames.length + \" files selected\";\n",
       "                this.file.setAttribute('disabled', 'true');           \n",
       "            };\n",
       "            this.label.prepend(this.icon);\n",
       "        },\n",
       "    });\n",
       "\n",
       "    // Register the FilePickerView with the widget manager.\n",
       "    return {\n",
       "        FilePickerView: FilePickerView\n",
       "    };\n",
       "});\n"
      ],
      "text/plain": [
       "<IPython.core.display.Javascript object>"
      ]
     },
     "metadata": {},
     "output_type": "display_data"
    },
    {
     "data": {
      "application/vnd.jupyter.widget-view+json": {
       "model_id": "086767e818b5461883f152f89c784be7",
       "version_major": 2,
       "version_minor": 0
      },
      "text/plain": [
       "Button(button_style='success', description='Hide Code Cells', style=ButtonStyle())"
      ]
     },
     "metadata": {},
     "output_type": "display_data"
    }
   ],
   "source": [
    "from hublib import ui\n",
    "hideCodeButton = ui.HideCodeButton(style = 'success')\n",
    "#help (hideCodeButton)\n",
    "display (hideCodeButton)"
   ]
  },
  {
   "cell_type": "code",
   "execution_count": 2,
   "metadata": {},
   "outputs": [],
   "source": [
    "# Importing the libraries\n",
    "\n",
    "import sys\n",
    "#print (sys.path)\n",
    "import os\n",
    "from importlib import reload\n",
    "\n",
    "sys.path.append(\"src\")\n",
    "# Notes for running Jupyter on Debian 10:\n",
    "# See: https://github.com/scipy/scipy/issues/11403\n",
    "#import scipy\n",
    "#print (scipy.__version__) # Jupyter Notebook: 1.3.0, Jupyter on Debian 10: 1.5.2, geospatial-plus python3 Kernel: 1.7.1\n",
    "# Workaround:\n",
    "#sys.path.insert (0,'/apps/share64/debian10/anaconda/anaconda-6/envs/volcashexpwf_anaconda_6/lib/python3.7/site-packages')\n",
    "#print (scipy.__version__) # 1.3.1\n",
    "# Note: For running Jupyter on Debian 10, also need to open a ticket to enable the tool to run in AppMode. Also see ./middleware/invoke.\n",
    "# Note: The previous two cells can get removed when running Jupyter on Debian 10\n",
    "\n",
    "from pathlib import Path\n",
    "import pickle\n",
    "import matplotlib.pyplot as plt\n",
    "from IPython.display import HTML\n",
    "import ipywidgets as widg\n",
    "\n",
    "%matplotlib inline\n",
    "plt.ioff()\n",
    "\n",
    "from bin import files\n",
    "from bin import functions as func\n",
    "from bin import plotting\n",
    "from bin import widgets\n",
    "\n",
    "# Setup paths to the bin and data directories\n",
    "self_tooldir = files.DIR_PROJECT\n",
    "self_bindir = files.DIR_BIN\n",
    "# TODO 6/15: what does below do?\n",
    "sys.path.insert (1, self_bindir)\n",
    "self_datadir = files.DIR_SAMPLE_DATA"
   ]
  },
  {
   "cell_type": "code",
   "execution_count": 3,
   "metadata": {},
   "outputs": [],
   "source": [
    "#prints Functions.py to the functions_ouput window\n",
    "functions_output = widg.Output()\n",
    "functions_file = os.path.join(self_bindir, \"functions.py\")\n",
    "def show_functions(change):\n",
    "\n",
    "    if showmore_button.description == 'Show Functions.py':\n",
    "        \n",
    "        showmore_button.description = 'Hide Functions.py'\n",
    "        with functions_output:\n",
    "            f = open(functions_file,'r')\n",
    "            for line in f:\n",
    "                print(line.rstrip())\n",
    "            f.close()\n",
    "    else:\n",
    "        \n",
    "        showmore_button.description = 'Show Functions.py'\n",
    "        functions_output.clear_output()\n",
    "        \n",
    "showmore_button = widg.Button(description = 'Show Functions.py', button_style = 'success')\n",
    "showmore_button.on_click(show_functions)\n"
   ]
  },
  {
   "cell_type": "markdown",
   "metadata": {},
   "source": [
    "## Select Your Data\n",
    "\n",
    "Pick/upload your data here and see if it is in the correct form."
   ]
  },
  {
   "cell_type": "code",
   "execution_count": 4,
   "metadata": {
    "scrolled": false
   },
   "outputs": [
    {
     "data": {
      "application/vnd.jupyter.widget-view+json": {
       "model_id": "b2562e80c2d54cea949fa66841bce668",
       "version_major": 2,
       "version_minor": 0
      },
      "text/plain": [
       "DataSelector(children=(HBox(children=(Label(value='Select data source:'), Button(description='Sample', style=B…"
      ]
     },
     "metadata": {},
     "output_type": "display_data"
    }
   ],
   "source": [
    "d = widgets.DataSelector()\n",
    "display(d)"
   ]
  },
  {
   "cell_type": "markdown",
   "metadata": {},
   "source": [
    "<a name=\"section_1\"></a>\n",
    "## <br />1. Using GCV to fit the ALPS model[$\\tiny\\uparrow$](#top)"
   ]
  },
  {
   "cell_type": "code",
   "execution_count": 5,
   "metadata": {},
   "outputs": [
    {
     "data": {
      "text/plain": [
       "<module 'bin.widgets' from '/home/rimov/Documents/Projects/ghub/alps/ALPS2/bin/widgets.py'>"
      ]
     },
     "execution_count": 5,
     "metadata": {},
     "output_type": "execute_result"
    }
   ],
   "source": [
    "reload(widgets)"
   ]
  },
  {
   "cell_type": "code",
   "execution_count": 6,
   "metadata": {},
   "outputs": [],
   "source": [
    "f1 = plt.figure(figsize=(12,7))"
   ]
  },
  {
   "cell_type": "code",
   "execution_count": 7,
   "metadata": {
    "scrolled": false
   },
   "outputs": [
    {
     "data": {
      "application/vnd.jupyter.widget-view+json": {
       "model_id": "ca97bdaf9df84fd281eb09e3896c0db6",
       "version_major": 2,
       "version_minor": 0
      },
      "text/plain": [
       "DataSelector(children=(HBox(children=(Label(value='Select data source:'), Button(description='Sample', style=B…"
      ]
     },
     "metadata": {},
     "output_type": "display_data"
    }
   ],
   "source": [
    "gcv = widgets.DataDisplay(widgets.DataDisplay.FuncType.GCV, f1)"
   ]
  },
  {
   "cell_type": "markdown",
   "metadata": {},
   "source": [
    "<a name=\"section_2\"></a>\n",
    "## <br />2. Using REML to Fit the ALPS Model[$\\tiny\\uparrow$](#top)"
   ]
  },
  {
   "cell_type": "code",
   "execution_count": 8,
   "metadata": {},
   "outputs": [],
   "source": [
    "f2 = plt.figure(figsize=(9,5))"
   ]
  },
  {
   "cell_type": "code",
   "execution_count": 9,
   "metadata": {
    "scrolled": false
   },
   "outputs": [
    {
     "data": {
      "application/vnd.jupyter.widget-view+json": {
       "model_id": "759f9773b80d40eba652b31ed6472e0b",
       "version_major": 2,
       "version_minor": 0
      },
      "text/plain": [
       "DataSelector(children=(HBox(children=(Label(value='Select data source:'), Button(description='Sample', style=B…"
      ]
     },
     "metadata": {},
     "output_type": "display_data"
    }
   ],
   "source": [
    "reml = widgets.DataDisplay(widgets.DataDisplay.FuncType.REML, f2)"
   ]
  },
  {
   "cell_type": "markdown",
   "metadata": {},
   "source": [
    "<a name=\"section_3\"></a>\n",
    "## <br />3. Outlier Detection in Time Series using Two Stage Strategy[$\\tiny\\uparrow$](#top)"
   ]
  },
  {
   "cell_type": "code",
   "execution_count": 10,
   "metadata": {
    "scrolled": false
   },
   "outputs": [],
   "source": [
    "f3 = plt.figure(figsize=(15,5))"
   ]
  },
  {
   "cell_type": "code",
   "execution_count": 11,
   "metadata": {
    "scrolled": false
   },
   "outputs": [
    {
     "data": {
      "application/vnd.jupyter.widget-view+json": {
       "model_id": "ed3ed9b0ff9244909cfaf517e97eede3",
       "version_major": 2,
       "version_minor": 0
      },
      "text/plain": [
       "DataDisplay(children=(DataSelector(children=(HBox(children=(Label(value='Select data source:'), Button(descrip…"
      ]
     },
     "metadata": {},
     "output_type": "display_data"
    }
   ],
   "source": [
    "two_stage = widgets.DataDisplay(\n",
    "    widgets.DataDisplay.FuncType.TWO_STAGE, f3\n",
    ")"
   ]
  },
  {
   "cell_type": "markdown",
   "metadata": {},
   "source": [
    "<a name=\"section_4\"></a>\n",
    "## <br />4. Mixed Model Formulation for getting Local and Global Effects[$\\tiny\\uparrow$](#top)"
   ]
  },
  {
   "cell_type": "code",
   "execution_count": 12,
   "metadata": {},
   "outputs": [],
   "source": [
    "f4 = plt.figure(figsize=(15,5))"
   ]
  },
  {
   "cell_type": "code",
   "execution_count": 13,
   "metadata": {
    "scrolled": false
   },
   "outputs": [
    {
     "data": {
      "application/vnd.jupyter.widget-view+json": {
       "model_id": "6d989503dcff406b81361742235846d0",
       "version_major": 2,
       "version_minor": 0
      },
      "text/plain": [
       "DataDisplay(children=(DataSelector(children=(HBox(children=(Label(value='Select data source:'), Button(descrip…"
      ]
     },
     "metadata": {},
     "output_type": "display_data"
    },
    {
     "data": {
      "application/javascript": [
       "window.open('../data/out/123123.png', 'Download', '_blank')"
      ],
      "text/plain": [
       "<IPython.core.display.Javascript object>"
      ]
     },
     "metadata": {},
     "output_type": "display_data"
    },
    {
     "data": {
      "application/javascript": [
       "window.open('../data/out/123123.png', 'Download', '_blank')"
      ],
      "text/plain": [
       "<IPython.core.display.Javascript object>"
      ]
     },
     "metadata": {},
     "output_type": "display_data"
    }
   ],
   "source": [
    "reml = widgets.DataDisplay(widgets.DataDisplay.FuncType.MMF, f4)"
   ]
  },
  {
   "cell_type": "code",
   "execution_count": null,
   "metadata": {},
   "outputs": [],
   "source": []
  }
 ],
 "metadata": {
  "kernelspec": {
   "display_name": "Python 3 (ipykernel)",
   "language": "python",
   "name": "python3"
  },
  "language_info": {
   "codemirror_mode": {
    "name": "ipython",
    "version": 3
   },
   "file_extension": ".py",
   "mimetype": "text/x-python",
   "name": "python",
   "nbconvert_exporter": "python",
   "pygments_lexer": "ipython3",
   "version": "3.7.7"
  }
 },
 "nbformat": 4,
 "nbformat_minor": 2
}
